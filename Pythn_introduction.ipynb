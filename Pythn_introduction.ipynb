{
 "cells": [
  {
   "cell_type": "code",
   "execution_count": 1,
   "id": "cd7f3687",
   "metadata": {},
   "outputs": [
    {
     "name": "stdout",
     "output_type": "stream",
     "text": [
      "Hello World!\n"
     ]
    }
   ],
   "source": [
    "print('Hello World!')"
   ]
  },
  {
   "cell_type": "code",
   "execution_count": 2,
   "id": "2fc5b35f",
   "metadata": {},
   "outputs": [
    {
     "name": "stdout",
     "output_type": "stream",
     "text": [
      "My name is Alice, and I am 30 years old\n"
     ]
    }
   ],
   "source": [
    "name = 'Alice'\n",
    "age = 30\n",
    "print(f'My name is {name}, and I am {age} years old')"
   ]
  },
  {
   "cell_type": "code",
   "execution_count": 4,
   "id": "06d626a5",
   "metadata": {},
   "outputs": [
    {
     "name": "stdout",
     "output_type": "stream",
     "text": [
      "Coding is exciting.\n",
      "Python makes it more so.\n",
      "Let's keep learning!\n"
     ]
    }
   ],
   "source": [
    "first_line = 'Coding is exciting.'\n",
    "second_line = 'Python makes it more so.'\n",
    "threeth_line = \"Let's keep learning!\"\n",
    "print(f'{first_line}\\n{second_line}\\n{threeth_line}')"
   ]
  },
  {
   "cell_type": "code",
   "execution_count": 5,
   "id": "524bf9fc",
   "metadata": {},
   "outputs": [
    {
     "name": "stdout",
     "output_type": "stream",
     "text": [
      "Hello, Leandro\n"
     ]
    }
   ],
   "source": [
    "name = input('please enter your name')\n",
    "print(f'Hello, {name}')"
   ]
  },
  {
   "cell_type": "code",
   "execution_count": 6,
   "id": "fc566b85",
   "metadata": {},
   "outputs": [
    {
     "name": "stdout",
     "output_type": "stream",
     "text": [
      "Hello, Leandro!\n"
     ]
    }
   ],
   "source": [
    "user = input('What is your name: ')\n",
    "print(f'Hello, {user}!')"
   ]
  },
  {
   "cell_type": "code",
   "execution_count": 7,
   "id": "d11c0ce6",
   "metadata": {},
   "outputs": [
    {
     "name": "stdout",
     "output_type": "stream",
     "text": [
      "Your Superhero name is homem aranha\n"
     ]
    }
   ],
   "source": [
    "adjective = input('Find the first adjective on the 13th page of a book: ')\n",
    "noun = input('Something that you find scary: ')\n",
    "print(f'Your Superhero name is {adjective} {noun}')\n"
   ]
  },
  {
   "cell_type": "markdown",
   "id": "1f344a7a",
   "metadata": {},
   "source": [
    "##Variable types"
   ]
  },
  {
   "cell_type": "markdown",
   "id": "b66964fb",
   "metadata": {},
   "source": [
    "- variables are vital for data storage and management"
   ]
  },
  {
   "cell_type": "code",
   "execution_count": 2,
   "id": "118715de",
   "metadata": {},
   "outputs": [],
   "source": [
    "#Variables types\n",
    "name = 'Diogo'\n",
    "age = 33\n",
    "height = 1.83"
   ]
  },
  {
   "cell_type": "code",
   "execution_count": 3,
   "id": "0e8ebb29",
   "metadata": {},
   "outputs": [
    {
     "name": "stdout",
     "output_type": "stream",
     "text": [
      "<class 'str'>\n",
      "<class 'int'>\n",
      "<class 'float'>\n"
     ]
    }
   ],
   "source": [
    "print(type(name))\n",
    "print(type(age))\n",
    "print(type(height))"
   ]
  },
  {
   "cell_type": "code",
   "execution_count": 4,
   "id": "81c1dfee",
   "metadata": {},
   "outputs": [
    {
     "data": {
      "text/plain": [
       "1"
      ]
     },
     "execution_count": 4,
     "metadata": {},
     "output_type": "execute_result"
    }
   ],
   "source": [
    "#Transforme a float into an integer\n",
    "height_integer = int(height)\n",
    "height_integer"
   ]
  },
  {
   "cell_type": "code",
   "execution_count": null,
   "id": "9533ef58",
   "metadata": {},
   "outputs": [],
   "source": []
  }
 ],
 "metadata": {
  "kernelspec": {
   "display_name": "base",
   "language": "python",
   "name": "python3"
  },
  "language_info": {
   "codemirror_mode": {
    "name": "ipython",
    "version": 3
   },
   "file_extension": ".py",
   "mimetype": "text/x-python",
   "name": "python",
   "nbconvert_exporter": "python",
   "pygments_lexer": "ipython3",
   "version": "3.13.5"
  }
 },
 "nbformat": 4,
 "nbformat_minor": 5
}
