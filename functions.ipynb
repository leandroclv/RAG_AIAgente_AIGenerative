{
 "cells": [
  {
   "cell_type": "markdown",
   "id": "8d0ac15d",
   "metadata": {},
   "source": [
    "##Functions\n",
    "\n",
    "- Reutilização\n",
    "\n",
    "- Organização\n",
    "\n",
    "- Depuração\n"
   ]
  },
  {
   "cell_type": "markdown",
   "id": "d63bb055",
   "metadata": {},
   "source": [
    "Sintaxe\n",
    "\n",
    "def function_name():\n",
    "    \n",
    "       #Function body\n",
    "    \n",
    "       ..."
   ]
  },
  {
   "cell_type": "code",
   "execution_count": 2,
   "id": "c4b4279a",
   "metadata": {},
   "outputs": [],
   "source": [
    "def greet():\n",
    "    print('Howdy, partner!')"
   ]
  },
  {
   "cell_type": "code",
   "execution_count": 3,
   "id": "12092956",
   "metadata": {},
   "outputs": [
    {
     "name": "stdout",
     "output_type": "stream",
     "text": [
      "Howdy, partner!\n"
     ]
    }
   ],
   "source": [
    "#Call the function\n",
    "greet()"
   ]
  },
  {
   "cell_type": "code",
   "execution_count": null,
   "id": "561ae028",
   "metadata": {},
   "outputs": [],
   "source": [
    "# Parâmetros são valores que estão dentro da função, pode conter mais de um parâmetro na função\n",
    "#def function_name(parameter1):\n",
    "#   function body"
   ]
  },
  {
   "cell_type": "code",
   "execution_count": 5,
   "id": "49ee1d0f",
   "metadata": {},
   "outputs": [],
   "source": [
    "def food(food1):\n",
    "    print(f'{food1} is delicious')"
   ]
  },
  {
   "cell_type": "code",
   "execution_count": 6,
   "id": "2493a749",
   "metadata": {},
   "outputs": [
    {
     "name": "stdout",
     "output_type": "stream",
     "text": [
      "Pizza is delicious\n"
     ]
    }
   ],
   "source": [
    "#Call the function\n",
    "food('Pizza')"
   ]
  },
  {
   "cell_type": "code",
   "execution_count": 7,
   "id": "9b43715f",
   "metadata": {},
   "outputs": [],
   "source": [
    "def mix_foods(food1, food2):\n",
    "    print(f'Mixing {food1} and {food2} is delicious')"
   ]
  },
  {
   "cell_type": "code",
   "execution_count": 8,
   "id": "290f32e2",
   "metadata": {},
   "outputs": [
    {
     "name": "stdout",
     "output_type": "stream",
     "text": [
      "Mixing Pizza and Tacos is delicious\n"
     ]
    }
   ],
   "source": [
    "#Call the function\n",
    "mix_foods('Pizza', 'Tacos')"
   ]
  },
  {
   "cell_type": "code",
   "execution_count": 9,
   "id": "fb561a4e",
   "metadata": {},
   "outputs": [],
   "source": [
    "#Podemos na função retornar um resultado\n",
    "#def function_name():\n",
    "#  function body\n",
    "#  ...\n",
    "#  return result "
   ]
  },
  {
   "cell_type": "code",
   "execution_count": 10,
   "id": "63b0e923",
   "metadata": {},
   "outputs": [],
   "source": [
    "def mix_foods(food1, food2):\n",
    "    return f'Mixing {food1} and {food2} creates a mouthwatering feast!'"
   ]
  },
  {
   "cell_type": "code",
   "execution_count": 11,
   "id": "90f6776f",
   "metadata": {},
   "outputs": [
    {
     "name": "stdout",
     "output_type": "stream",
     "text": [
      "Mixing pizza and tacos creates a mouthwatering feast!\n"
     ]
    }
   ],
   "source": [
    "#Call the function\n",
    "party_dish = mix_foods('pizza', 'tacos')\n",
    "print(party_dish)"
   ]
  },
  {
   "cell_type": "code",
   "execution_count": 18,
   "id": "5a0efabc",
   "metadata": {},
   "outputs": [],
   "source": [
    "#Write a function named calculate_sum that takes a list of numbers as input and returns their sum\n",
    "list_numb = [2,5,6,7,8]\n",
    "def calculate_sum(list):\n",
    "    sum_total = sum(list)\n",
    "    return sum_total"
   ]
  },
  {
   "cell_type": "code",
   "execution_count": null,
   "id": "6b367586",
   "metadata": {},
   "outputs": [],
   "source": [
    "#def calculate_sum(numbers):\n",
    "#   total = 0\n",
    "#   for num in numbers:\n",
    "#        total += num\n",
    "#   return total"
   ]
  },
  {
   "cell_type": "code",
   "execution_count": 19,
   "id": "fd910c69",
   "metadata": {},
   "outputs": [
    {
     "data": {
      "text/plain": [
       "28"
      ]
     },
     "execution_count": 19,
     "metadata": {},
     "output_type": "execute_result"
    }
   ],
   "source": [
    "calculate_sum(list_numb)"
   ]
  },
  {
   "cell_type": "code",
   "execution_count": 20,
   "id": "a84ffeab",
   "metadata": {},
   "outputs": [],
   "source": [
    "#Write a function named calculate_area takes two parameters(length and width) and return the area.\n",
    "def calculate_area(length, width):\n",
    "    area = length * width\n",
    "    return area"
   ]
  },
  {
   "cell_type": "code",
   "execution_count": 21,
   "id": "7bbf4442",
   "metadata": {},
   "outputs": [
    {
     "data": {
      "text/plain": [
       "12"
      ]
     },
     "execution_count": 21,
     "metadata": {},
     "output_type": "execute_result"
    }
   ],
   "source": [
    "calculate_area(2, 6)"
   ]
  },
  {
   "cell_type": "code",
   "execution_count": 23,
   "id": "7a81c39a",
   "metadata": {},
   "outputs": [],
   "source": [
    "#Write a function named reverse_string that takes a string as input and returns it reversed\n",
    "def reverse_string(word):\n",
    "    return word[::-1]"
   ]
  },
  {
   "cell_type": "code",
   "execution_count": 24,
   "id": "11dd4027",
   "metadata": {},
   "outputs": [
    {
     "data": {
      "text/plain": [
       "'otap'"
      ]
     },
     "execution_count": 24,
     "metadata": {},
     "output_type": "execute_result"
    }
   ],
   "source": [
    "reverse_string('pato')"
   ]
  },
  {
   "cell_type": "code",
   "execution_count": null,
   "id": "e5923b55",
   "metadata": {},
   "outputs": [],
   "source": [
    "#Write a function named are_anagrams that takes two strings and returns True if they are anagrams, False otherwise\n",
    "def are_anagrams(word1, word2):\n",
    "    word_1 = word1.replace(' ', '').lower()\n",
    "    word_2 = word2.replace(' ', '').lower()\n",
    "    reverse_word = word_2[::-1]\n",
    "    if word_1 == reverse_word:\n",
    "        return True\n",
    "    else:\n",
    "        return False"
   ]
  },
  {
   "cell_type": "code",
   "execution_count": 26,
   "id": "54c46ca7",
   "metadata": {},
   "outputs": [
    {
     "data": {
      "text/plain": [
       "False"
      ]
     },
     "execution_count": 26,
     "metadata": {},
     "output_type": "execute_result"
    }
   ],
   "source": [
    "are_anagrams('voce', 'ele')"
   ]
  },
  {
   "cell_type": "code",
   "execution_count": 27,
   "id": "3503a54b",
   "metadata": {},
   "outputs": [
    {
     "data": {
      "text/plain": [
       "True"
      ]
     },
     "execution_count": 27,
     "metadata": {},
     "output_type": "execute_result"
    }
   ],
   "source": [
    "are_anagrams('raul', 'luar')"
   ]
  },
  {
   "cell_type": "code",
   "execution_count": null,
   "id": "eaccab18",
   "metadata": {},
   "outputs": [],
   "source": []
  }
 ],
 "metadata": {
  "kernelspec": {
   "display_name": "base",
   "language": "python",
   "name": "python3"
  },
  "language_info": {
   "codemirror_mode": {
    "name": "ipython",
    "version": 3
   },
   "file_extension": ".py",
   "mimetype": "text/x-python",
   "name": "python",
   "nbconvert_exporter": "python",
   "pygments_lexer": "ipython3",
   "version": "3.13.5"
  }
 },
 "nbformat": 4,
 "nbformat_minor": 5
}
