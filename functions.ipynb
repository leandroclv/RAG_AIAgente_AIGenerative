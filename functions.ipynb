{
 "cells": [
  {
   "cell_type": "markdown",
   "id": "8d0ac15d",
   "metadata": {},
   "source": [
    "##Functions\n",
    "\n",
    "- Reutilização\n",
    "\n",
    "- Organização\n",
    "\n",
    "- Depuração\n"
   ]
  },
  {
   "cell_type": "markdown",
   "id": "d63bb055",
   "metadata": {},
   "source": [
    "Sintaxe\n",
    "\n",
    "def function_name():\n",
    "    \n",
    "       #Function body\n",
    "    \n",
    "       ..."
   ]
  },
  {
   "cell_type": "code",
   "execution_count": 1,
   "id": "c4b4279a",
   "metadata": {},
   "outputs": [],
   "source": [
    "def greet():\n",
    "    print('Howdy, partner!')"
   ]
  },
  {
   "cell_type": "code",
   "execution_count": 2,
   "id": "12092956",
   "metadata": {},
   "outputs": [
    {
     "name": "stdout",
     "output_type": "stream",
     "text": [
      "Howdy, partner!\n"
     ]
    }
   ],
   "source": [
    "#Call the function\n",
    "greet()"
   ]
  },
  {
   "cell_type": "code",
   "execution_count": 3,
   "id": "561ae028",
   "metadata": {},
   "outputs": [],
   "source": [
    "# Parâmetros são valores que estão dentro da função, pode conter mais de um parâmetro na função\n",
    "#def function_name(parameter1):\n",
    "#   function body"
   ]
  },
  {
   "cell_type": "code",
   "execution_count": 4,
   "id": "49ee1d0f",
   "metadata": {},
   "outputs": [],
   "source": [
    "def food(food1):\n",
    "    print(f'{food1} is delicious')"
   ]
  },
  {
   "cell_type": "code",
   "execution_count": 5,
   "id": "2493a749",
   "metadata": {},
   "outputs": [
    {
     "name": "stdout",
     "output_type": "stream",
     "text": [
      "Pizza is delicious\n"
     ]
    }
   ],
   "source": [
    "#Call the function\n",
    "food('Pizza')"
   ]
  },
  {
   "cell_type": "code",
   "execution_count": 6,
   "id": "9b43715f",
   "metadata": {},
   "outputs": [],
   "source": [
    "def mix_foods(food1, food2):\n",
    "    print(f'Mixing {food1} and {food2} is delicious')"
   ]
  },
  {
   "cell_type": "code",
   "execution_count": 7,
   "id": "290f32e2",
   "metadata": {},
   "outputs": [
    {
     "name": "stdout",
     "output_type": "stream",
     "text": [
      "Mixing Pizza and Tacos is delicious\n"
     ]
    }
   ],
   "source": [
    "#Call the function\n",
    "mix_foods('Pizza', 'Tacos')"
   ]
  },
  {
   "cell_type": "code",
   "execution_count": 8,
   "id": "fb561a4e",
   "metadata": {},
   "outputs": [],
   "source": [
    "#Podemos na função retornar um resultado\n",
    "#def function_name():\n",
    "#  function body\n",
    "#  ...\n",
    "#  return result "
   ]
  },
  {
   "cell_type": "code",
   "execution_count": 9,
   "id": "63b0e923",
   "metadata": {},
   "outputs": [],
   "source": [
    "def mix_foods(food1, food2):\n",
    "    return f'Mixing {food1} and {food2} creates a mouthwatering feast!'"
   ]
  },
  {
   "cell_type": "code",
   "execution_count": 10,
   "id": "90f6776f",
   "metadata": {},
   "outputs": [
    {
     "name": "stdout",
     "output_type": "stream",
     "text": [
      "Mixing pizza and tacos creates a mouthwatering feast!\n"
     ]
    }
   ],
   "source": [
    "#Call the function\n",
    "party_dish = mix_foods('pizza', 'tacos')\n",
    "print(party_dish)"
   ]
  },
  {
   "cell_type": "code",
   "execution_count": 11,
   "id": "5a0efabc",
   "metadata": {},
   "outputs": [],
   "source": [
    "#Write a function named calculate_sum that takes a list of numbers as input and returns their sum\n",
    "list_numb = [2,5,6,7,8]\n",
    "def calculate_sum(list):\n",
    "    sum_total = sum(list)\n",
    "    return sum_total"
   ]
  },
  {
   "cell_type": "code",
   "execution_count": 12,
   "id": "6b367586",
   "metadata": {},
   "outputs": [],
   "source": [
    "#def calculate_sum(numbers):\n",
    "#   total = 0\n",
    "#   for num in numbers:\n",
    "#        total += num\n",
    "#   return total"
   ]
  },
  {
   "cell_type": "code",
   "execution_count": 13,
   "id": "fd910c69",
   "metadata": {},
   "outputs": [
    {
     "data": {
      "text/plain": [
       "28"
      ]
     },
     "execution_count": 13,
     "metadata": {},
     "output_type": "execute_result"
    }
   ],
   "source": [
    "calculate_sum(list_numb)"
   ]
  },
  {
   "cell_type": "code",
   "execution_count": 14,
   "id": "a84ffeab",
   "metadata": {},
   "outputs": [],
   "source": [
    "#Write a function named calculate_area takes two parameters(length and width) and return the area.\n",
    "def calculate_area(length, width):\n",
    "    area = length * width\n",
    "    return area"
   ]
  },
  {
   "cell_type": "code",
   "execution_count": 15,
   "id": "7bbf4442",
   "metadata": {},
   "outputs": [
    {
     "data": {
      "text/plain": [
       "12"
      ]
     },
     "execution_count": 15,
     "metadata": {},
     "output_type": "execute_result"
    }
   ],
   "source": [
    "calculate_area(2, 6)"
   ]
  },
  {
   "cell_type": "code",
   "execution_count": 16,
   "id": "7a81c39a",
   "metadata": {},
   "outputs": [],
   "source": [
    "#Write a function named reverse_string that takes a string as input and returns it reversed\n",
    "def reverse_string(word):\n",
    "    return word[::-1]"
   ]
  },
  {
   "cell_type": "code",
   "execution_count": 17,
   "id": "11dd4027",
   "metadata": {},
   "outputs": [
    {
     "data": {
      "text/plain": [
       "'otap'"
      ]
     },
     "execution_count": 17,
     "metadata": {},
     "output_type": "execute_result"
    }
   ],
   "source": [
    "reverse_string('pato')"
   ]
  },
  {
   "cell_type": "code",
   "execution_count": 18,
   "id": "e5923b55",
   "metadata": {},
   "outputs": [],
   "source": [
    "#Write a function named are_anagrams that takes two strings and returns True if they are anagrams, False otherwise\n",
    "def are_anagrams(word1, word2):\n",
    "    word_1 = word1.replace(' ', '').lower()\n",
    "    word_2 = word2.replace(' ', '').lower()\n",
    "    reverse_word = word_2[::-1]\n",
    "    if word_1 == reverse_word:\n",
    "        return True\n",
    "    else:\n",
    "        return False"
   ]
  },
  {
   "cell_type": "code",
   "execution_count": 19,
   "id": "54c46ca7",
   "metadata": {},
   "outputs": [
    {
     "data": {
      "text/plain": [
       "False"
      ]
     },
     "execution_count": 19,
     "metadata": {},
     "output_type": "execute_result"
    }
   ],
   "source": [
    "are_anagrams('voce', 'ele')"
   ]
  },
  {
   "cell_type": "code",
   "execution_count": 20,
   "id": "3503a54b",
   "metadata": {},
   "outputs": [
    {
     "data": {
      "text/plain": [
       "True"
      ]
     },
     "execution_count": 20,
     "metadata": {},
     "output_type": "execute_result"
    }
   ],
   "source": [
    "are_anagrams('raul', 'luar')"
   ]
  },
  {
   "cell_type": "code",
   "execution_count": 23,
   "id": "a66d84ea",
   "metadata": {},
   "outputs": [],
   "source": [
    "palindrome = 'A man, a plan, a canal, Panama'"
   ]
  },
  {
   "cell_type": "code",
   "execution_count": 24,
   "id": "eaccab18",
   "metadata": {},
   "outputs": [],
   "source": [
    "def is_palindrome(string):\n",
    "    palindrome_lower = palindrome.lower()\n",
    "    merged_string = ''.join(char for char in palindrome_lower if char.isalnum())\n",
    "    return merged_string == merged_string[::-1]"
   ]
  },
  {
   "cell_type": "code",
   "execution_count": 25,
   "id": "0d38c78b",
   "metadata": {},
   "outputs": [
    {
     "data": {
      "text/plain": [
       "True"
      ]
     },
     "execution_count": 25,
     "metadata": {},
     "output_type": "execute_result"
    }
   ],
   "source": [
    "is_palindrome(palindrome)"
   ]
  },
  {
   "cell_type": "markdown",
   "id": "6446ee11",
   "metadata": {},
   "source": [
    "Classes e objetos\n",
    "\n",
    "Classe são como um projeto, de modo que você definirá as características que elas devem ter, e nós criamos objetos com elas\n",
    "\n",
    "classe é o modelo e objeto é o que é criado com a classe"
   ]
  },
  {
   "cell_type": "code",
   "execution_count": 6,
   "id": "59c9a2ce",
   "metadata": {},
   "outputs": [],
   "source": [
    "class Pokemon:\n",
    "    def __init__(self,name,pokemon_type,level): #Estes são os atribútos\n",
    "        self.name = name\n",
    "        self.pokemon_type = pokemon_type\n",
    "        self.level=level"
   ]
  },
  {
   "cell_type": "markdown",
   "id": "5cb3d5ca",
   "metadata": {},
   "source": [
    "A classe Pokemon define as prorpiedades que qualquer pokemon pode ter\n",
    "\n",
    "A classe é apensas o plano, não o pokemon\n",
    "\n",
    "Criando um Pokemon com esta classe significa construir um objeto\n",
    "\n",
    "pikachu = Pokemon(name='Pikaachu', pokemon_type='electric, level=5') \n",
    "\n",
    "Aqui o pikachu é um objeto da classe Pokemon\n",
    "\n",
    "Os atributos são as características dos Pokemons e o métodos seriam o que eles podem fazer"
   ]
  },
  {
   "cell_type": "code",
   "execution_count": null,
   "id": "d56625dc",
   "metadata": {},
   "outputs": [],
   "source": [
    "#Vantagens das classes\n",
    "# - Organização\n",
    "# - Reusabilidade\n",
    "# - Escalabilidade"
   ]
  },
  {
   "cell_type": "code",
   "execution_count": 7,
   "id": "33aad6ec",
   "metadata": {},
   "outputs": [],
   "source": [
    "#Creando uma instância da classe Pokemon\n",
    "pikachu = Pokemon(name= 'Pikachu', pokemon_type= 'Electric', level= 5)"
   ]
  },
  {
   "cell_type": "code",
   "execution_count": 8,
   "id": "8bfb2528",
   "metadata": {},
   "outputs": [
    {
     "name": "stdout",
     "output_type": "stream",
     "text": [
      "Name: Pikachu\n",
      "Type: Electric\n",
      "Level: 5\n"
     ]
    }
   ],
   "source": [
    "#Acessando os atributos do objeto pikachu\n",
    "print(f'Name: {pikachu.name}')\n",
    "print(f'Type: {pikachu.pokemon_type}')\n",
    "print(f'Level: {pikachu.level}')"
   ]
  },
  {
   "cell_type": "code",
   "execution_count": 9,
   "id": "067bb3db",
   "metadata": {},
   "outputs": [],
   "source": [
    "chamander = Pokemon(name='Charmander', pokemon_type='Fire', level=5)"
   ]
  },
  {
   "cell_type": "markdown",
   "id": "a512b81c",
   "metadata": {},
   "source": [
    "#Resumo\n",
    "\n",
    "- Classe define a estrutura e o comportamento\n",
    "\n",
    "- Objetos são instâncias de classes\n",
    "\n",
    "- o método __init__ inicializa novos objetos"
   ]
  },
  {
   "cell_type": "code",
   "execution_count": 11,
   "id": "d3a93107",
   "metadata": {},
   "outputs": [],
   "source": [
    "class Book:\n",
    "    def __init__(self, title, author, pages):\n",
    "        self.title = title\n",
    "        self.author = author\n",
    "        self.pages = pages\n",
    "        \n",
    "    def book_info(self):\n",
    "        return f'Title: {self.title}, author: {self.author}, pages: {self.pages}'"
   ]
  },
  {
   "cell_type": "code",
   "execution_count": 12,
   "id": "da554806",
   "metadata": {},
   "outputs": [],
   "source": [
    "terror = Book('sexta-feira 13', 'Stefen King', 123)"
   ]
  },
  {
   "cell_type": "code",
   "execution_count": 13,
   "id": "a5e578aa",
   "metadata": {},
   "outputs": [
    {
     "name": "stdout",
     "output_type": "stream",
     "text": [
      "sexta-feira 13\n",
      "Stefen King\n",
      "123\n"
     ]
    }
   ],
   "source": [
    "print(terror.title)\n",
    "print(terror.author)\n",
    "print(terror.pages)"
   ]
  },
  {
   "cell_type": "code",
   "execution_count": 14,
   "id": "bd2bcc0f",
   "metadata": {},
   "outputs": [
    {
     "data": {
      "text/plain": [
       "'Title: sexta-feira 13, author: Stefen King, pages: 123'"
      ]
     },
     "execution_count": 14,
     "metadata": {},
     "output_type": "execute_result"
    }
   ],
   "source": [
    "terror.book_info()"
   ]
  },
  {
   "cell_type": "code",
   "execution_count": 22,
   "id": "7095d850",
   "metadata": {},
   "outputs": [],
   "source": [
    "class Rectangle:\n",
    "    def __init__(self, length, width):\n",
    "        self.length = length\n",
    "        self.width = width\n",
    "        \n",
    "    def area_total(self):\n",
    "        return f'The rectangle area is {self.length * self.width}'\n",
    "    \n",
    "    def perimetre(self):\n",
    "        return f'The rectangle perimeter is {2 * self.length + self.width}'"
   ]
  },
  {
   "cell_type": "code",
   "execution_count": 23,
   "id": "3646ad8b",
   "metadata": {},
   "outputs": [],
   "source": [
    "area = Rectangle(23, 56)"
   ]
  },
  {
   "cell_type": "code",
   "execution_count": 24,
   "id": "2555acce",
   "metadata": {},
   "outputs": [
    {
     "data": {
      "text/plain": [
       "23"
      ]
     },
     "execution_count": 24,
     "metadata": {},
     "output_type": "execute_result"
    }
   ],
   "source": [
    "area.length"
   ]
  },
  {
   "cell_type": "code",
   "execution_count": 25,
   "id": "61d1f586",
   "metadata": {},
   "outputs": [
    {
     "data": {
      "text/plain": [
       "'The rectangle area is 1288'"
      ]
     },
     "execution_count": 25,
     "metadata": {},
     "output_type": "execute_result"
    }
   ],
   "source": [
    "area.area_total()"
   ]
  },
  {
   "cell_type": "code",
   "execution_count": 26,
   "id": "4ce0d408",
   "metadata": {},
   "outputs": [
    {
     "data": {
      "text/plain": [
       "'The rectangle perimeter is 102'"
      ]
     },
     "execution_count": 26,
     "metadata": {},
     "output_type": "execute_result"
    }
   ],
   "source": [
    "area.perimetre()"
   ]
  },
  {
   "cell_type": "code",
   "execution_count": 59,
   "id": "912cc0cb",
   "metadata": {},
   "outputs": [],
   "source": [
    "class BankAccount:\n",
    "    def __init__(self, account_holder, balace = 0.0):\n",
    "        self.account_holder = account_holder\n",
    "        self.balance = balace\n",
    "        \n",
    "    def deposit(self, amount):\n",
    "        self.balance += amount\n",
    "        print(f'Deposit of {amount} sucessful. New balance: {self.balance}')\n",
    "        \n",
    "    def withdraw(self, amount):\n",
    "        if self.balance >= amount:\n",
    "            self.balance -= amount\n",
    "            print(f'Withdrawal of {amount} sucessful. New balance: {self.balance}')\n",
    "        else:\n",
    "            print('Insufficient funds')\n",
    "            \n",
    "    def get_balance(self):\n",
    "        return f'Your balance is {self.balance}'"
   ]
  },
  {
   "cell_type": "code",
   "execution_count": 60,
   "id": "6d63af6f",
   "metadata": {},
   "outputs": [],
   "source": [
    "my_count = BankAccount('Sofia', 40)"
   ]
  },
  {
   "cell_type": "code",
   "execution_count": 61,
   "id": "d979bd90",
   "metadata": {},
   "outputs": [
    {
     "data": {
      "text/plain": [
       "40"
      ]
     },
     "execution_count": 61,
     "metadata": {},
     "output_type": "execute_result"
    }
   ],
   "source": [
    "my_count.balance"
   ]
  },
  {
   "cell_type": "code",
   "execution_count": 62,
   "id": "4a4c3833",
   "metadata": {},
   "outputs": [],
   "source": [
    "my_count_2 = BankAccount('José')"
   ]
  },
  {
   "cell_type": "code",
   "execution_count": 63,
   "id": "d8507110",
   "metadata": {},
   "outputs": [
    {
     "data": {
      "text/plain": [
       "0.0"
      ]
     },
     "execution_count": 63,
     "metadata": {},
     "output_type": "execute_result"
    }
   ],
   "source": [
    "my_count_2.balance"
   ]
  },
  {
   "cell_type": "code",
   "execution_count": 64,
   "id": "fbeca97b",
   "metadata": {},
   "outputs": [
    {
     "name": "stdout",
     "output_type": "stream",
     "text": [
      "Deposit of 500 sucessful. New balance: 540\n"
     ]
    }
   ],
   "source": [
    "my_count.deposit(500)"
   ]
  },
  {
   "cell_type": "code",
   "execution_count": 65,
   "id": "f849e9ec",
   "metadata": {},
   "outputs": [
    {
     "name": "stdout",
     "output_type": "stream",
     "text": [
      "Withdrawal of 200 sucessful. New balance: 340\n"
     ]
    }
   ],
   "source": [
    "my_count.withdraw(200)"
   ]
  },
  {
   "cell_type": "code",
   "execution_count": 66,
   "id": "eab70709",
   "metadata": {},
   "outputs": [
    {
     "data": {
      "text/plain": [
       "'Your balance is 340'"
      ]
     },
     "execution_count": 66,
     "metadata": {},
     "output_type": "execute_result"
    }
   ],
   "source": [
    "my_count.get_balance()"
   ]
  },
  {
   "cell_type": "code",
   "execution_count": null,
   "id": "85404526",
   "metadata": {},
   "outputs": [],
   "source": []
  }
 ],
 "metadata": {
  "kernelspec": {
   "display_name": "base",
   "language": "python",
   "name": "python3"
  },
  "language_info": {
   "codemirror_mode": {
    "name": "ipython",
    "version": 3
   },
   "file_extension": ".py",
   "mimetype": "text/x-python",
   "name": "python",
   "nbconvert_exporter": "python",
   "pygments_lexer": "ipython3",
   "version": "3.13.5"
  }
 },
 "nbformat": 4,
 "nbformat_minor": 5
}
