{
 "cells": [
  {
   "cell_type": "markdown",
   "id": "8d0ac15d",
   "metadata": {},
   "source": [
    "##Functions\n",
    "\n",
    "- Reutilização\n",
    "\n",
    "- Organização\n",
    "\n",
    "- Depuração\n"
   ]
  },
  {
   "cell_type": "markdown",
   "id": "d63bb055",
   "metadata": {},
   "source": [
    "Sintaxe\n",
    "\n",
    "def function_name():\n",
    "    \n",
    "       #Function body\n",
    "    \n",
    "       ..."
   ]
  },
  {
   "cell_type": "code",
   "execution_count": 1,
   "id": "c4b4279a",
   "metadata": {},
   "outputs": [],
   "source": [
    "def greet():\n",
    "    print('Howdy, partner!')"
   ]
  },
  {
   "cell_type": "code",
   "execution_count": 2,
   "id": "12092956",
   "metadata": {},
   "outputs": [
    {
     "name": "stdout",
     "output_type": "stream",
     "text": [
      "Howdy, partner!\n"
     ]
    }
   ],
   "source": [
    "#Call the function\n",
    "greet()"
   ]
  },
  {
   "cell_type": "code",
   "execution_count": 3,
   "id": "561ae028",
   "metadata": {},
   "outputs": [],
   "source": [
    "# Parâmetros são valores que estão dentro da função, pode conter mais de um parâmetro na função\n",
    "#def function_name(parameter1):\n",
    "#   function body"
   ]
  },
  {
   "cell_type": "code",
   "execution_count": 4,
   "id": "49ee1d0f",
   "metadata": {},
   "outputs": [],
   "source": [
    "def food(food1):\n",
    "    print(f'{food1} is delicious')"
   ]
  },
  {
   "cell_type": "code",
   "execution_count": 5,
   "id": "2493a749",
   "metadata": {},
   "outputs": [
    {
     "name": "stdout",
     "output_type": "stream",
     "text": [
      "Pizza is delicious\n"
     ]
    }
   ],
   "source": [
    "#Call the function\n",
    "food('Pizza')"
   ]
  },
  {
   "cell_type": "code",
   "execution_count": 6,
   "id": "9b43715f",
   "metadata": {},
   "outputs": [],
   "source": [
    "def mix_foods(food1, food2):\n",
    "    print(f'Mixing {food1} and {food2} is delicious')"
   ]
  },
  {
   "cell_type": "code",
   "execution_count": 7,
   "id": "290f32e2",
   "metadata": {},
   "outputs": [
    {
     "name": "stdout",
     "output_type": "stream",
     "text": [
      "Mixing Pizza and Tacos is delicious\n"
     ]
    }
   ],
   "source": [
    "#Call the function\n",
    "mix_foods('Pizza', 'Tacos')"
   ]
  },
  {
   "cell_type": "code",
   "execution_count": 8,
   "id": "fb561a4e",
   "metadata": {},
   "outputs": [],
   "source": [
    "#Podemos na função retornar um resultado\n",
    "#def function_name():\n",
    "#  function body\n",
    "#  ...\n",
    "#  return result "
   ]
  },
  {
   "cell_type": "code",
   "execution_count": 9,
   "id": "63b0e923",
   "metadata": {},
   "outputs": [],
   "source": [
    "def mix_foods(food1, food2):\n",
    "    return f'Mixing {food1} and {food2} creates a mouthwatering feast!'"
   ]
  },
  {
   "cell_type": "code",
   "execution_count": 10,
   "id": "90f6776f",
   "metadata": {},
   "outputs": [
    {
     "name": "stdout",
     "output_type": "stream",
     "text": [
      "Mixing pizza and tacos creates a mouthwatering feast!\n"
     ]
    }
   ],
   "source": [
    "#Call the function\n",
    "party_dish = mix_foods('pizza', 'tacos')\n",
    "print(party_dish)"
   ]
  },
  {
   "cell_type": "code",
   "execution_count": 11,
   "id": "5a0efabc",
   "metadata": {},
   "outputs": [],
   "source": [
    "#Write a function named calculate_sum that takes a list of numbers as input and returns their sum\n",
    "list_numb = [2,5,6,7,8]\n",
    "def calculate_sum(list):\n",
    "    sum_total = sum(list)\n",
    "    return sum_total"
   ]
  },
  {
   "cell_type": "code",
   "execution_count": 12,
   "id": "6b367586",
   "metadata": {},
   "outputs": [],
   "source": [
    "#def calculate_sum(numbers):\n",
    "#   total = 0\n",
    "#   for num in numbers:\n",
    "#        total += num\n",
    "#   return total"
   ]
  },
  {
   "cell_type": "code",
   "execution_count": 13,
   "id": "fd910c69",
   "metadata": {},
   "outputs": [
    {
     "data": {
      "text/plain": [
       "28"
      ]
     },
     "execution_count": 13,
     "metadata": {},
     "output_type": "execute_result"
    }
   ],
   "source": [
    "calculate_sum(list_numb)"
   ]
  },
  {
   "cell_type": "code",
   "execution_count": 14,
   "id": "a84ffeab",
   "metadata": {},
   "outputs": [],
   "source": [
    "#Write a function named calculate_area takes two parameters(length and width) and return the area.\n",
    "def calculate_area(length, width):\n",
    "    area = length * width\n",
    "    return area"
   ]
  },
  {
   "cell_type": "code",
   "execution_count": 15,
   "id": "7bbf4442",
   "metadata": {},
   "outputs": [
    {
     "data": {
      "text/plain": [
       "12"
      ]
     },
     "execution_count": 15,
     "metadata": {},
     "output_type": "execute_result"
    }
   ],
   "source": [
    "calculate_area(2, 6)"
   ]
  },
  {
   "cell_type": "code",
   "execution_count": 16,
   "id": "7a81c39a",
   "metadata": {},
   "outputs": [],
   "source": [
    "#Write a function named reverse_string that takes a string as input and returns it reversed\n",
    "def reverse_string(word):\n",
    "    return word[::-1]"
   ]
  },
  {
   "cell_type": "code",
   "execution_count": 17,
   "id": "11dd4027",
   "metadata": {},
   "outputs": [
    {
     "data": {
      "text/plain": [
       "'otap'"
      ]
     },
     "execution_count": 17,
     "metadata": {},
     "output_type": "execute_result"
    }
   ],
   "source": [
    "reverse_string('pato')"
   ]
  },
  {
   "cell_type": "code",
   "execution_count": 18,
   "id": "e5923b55",
   "metadata": {},
   "outputs": [],
   "source": [
    "#Write a function named are_anagrams that takes two strings and returns True if they are anagrams, False otherwise\n",
    "def are_anagrams(word1, word2):\n",
    "    word_1 = word1.replace(' ', '').lower()\n",
    "    word_2 = word2.replace(' ', '').lower()\n",
    "    reverse_word = word_2[::-1]\n",
    "    if word_1 == reverse_word:\n",
    "        return True\n",
    "    else:\n",
    "        return False"
   ]
  },
  {
   "cell_type": "code",
   "execution_count": 19,
   "id": "54c46ca7",
   "metadata": {},
   "outputs": [
    {
     "data": {
      "text/plain": [
       "False"
      ]
     },
     "execution_count": 19,
     "metadata": {},
     "output_type": "execute_result"
    }
   ],
   "source": [
    "are_anagrams('voce', 'ele')"
   ]
  },
  {
   "cell_type": "code",
   "execution_count": 20,
   "id": "3503a54b",
   "metadata": {},
   "outputs": [
    {
     "data": {
      "text/plain": [
       "True"
      ]
     },
     "execution_count": 20,
     "metadata": {},
     "output_type": "execute_result"
    }
   ],
   "source": [
    "are_anagrams('raul', 'luar')"
   ]
  },
  {
   "cell_type": "code",
   "execution_count": 23,
   "id": "a66d84ea",
   "metadata": {},
   "outputs": [],
   "source": [
    "palindrome = 'A man, a plan, a canal, Panama'"
   ]
  },
  {
   "cell_type": "code",
   "execution_count": 24,
   "id": "eaccab18",
   "metadata": {},
   "outputs": [],
   "source": [
    "def is_palindrome(string):\n",
    "    palindrome_lower = palindrome.lower()\n",
    "    merged_string = ''.join(char for char in palindrome_lower if char.isalnum())\n",
    "    return merged_string == merged_string[::-1]"
   ]
  },
  {
   "cell_type": "code",
   "execution_count": 25,
   "id": "0d38c78b",
   "metadata": {},
   "outputs": [
    {
     "data": {
      "text/plain": [
       "True"
      ]
     },
     "execution_count": 25,
     "metadata": {},
     "output_type": "execute_result"
    }
   ],
   "source": [
    "is_palindrome(palindrome)"
   ]
  },
  {
   "cell_type": "markdown",
   "id": "6446ee11",
   "metadata": {},
   "source": [
    "Classes e objetos\n",
    "\n",
    "Classe são como um projeto, de modo que você definirá as características que elas devem ter, e nós criamos objetos com elas\n",
    "\n",
    "classe é o modelo e objeto é o que é criado com a classe"
   ]
  },
  {
   "cell_type": "code",
   "execution_count": null,
   "id": "59c9a2ce",
   "metadata": {},
   "outputs": [],
   "source": [
    "class Pokemon:\n",
    "    def __init__(self,name,pokemon_type,level): #Estes são os atribútos\n",
    "        self.name = name, self.pokemon_type = pokemon_type, self.level=level"
   ]
  },
  {
   "cell_type": "markdown",
   "id": "5cb3d5ca",
   "metadata": {},
   "source": [
    "A classe Pokemon define as prorpiedades que qualquer pokemon pode ter\n",
    "\n",
    "A classe é apensas o plano, não o pokemon\n",
    "\n",
    "Criando um Pokemon com esta classe significa construir um objeto\n",
    "\n",
    "pikachu = Pokemon(name='Pikaachu', pokemon_type='electric, level=5') \n",
    "\n",
    "Aqui o pikachu é um objeto da classe Pokemon\n",
    "\n",
    "Os atributos são as características dos Pokemons e o métodos seriam o que eles podem fazer"
   ]
  },
  {
   "cell_type": "code",
   "execution_count": null,
   "id": "d56625dc",
   "metadata": {},
   "outputs": [],
   "source": [
    "#Vantagens das classes\n",
    "# - Organização\n",
    "# - Reusabilidade\n",
    "# - Escalabilidade"
   ]
  },
  {
   "cell_type": "code",
   "execution_count": 34,
   "id": "33aad6ec",
   "metadata": {},
   "outputs": [
    {
     "ename": "TypeError",
     "evalue": "cannot unpack non-iterable int object",
     "output_type": "error",
     "traceback": [
      "\u001b[0;31m---------------------------------------------------------------------------\u001b[0m",
      "\u001b[0;31mTypeError\u001b[0m                                 Traceback (most recent call last)",
      "Cell \u001b[0;32mIn[34], line 2\u001b[0m\n\u001b[1;32m      1\u001b[0m \u001b[38;5;66;03m#Creando uma instância da classe Pokemon\u001b[39;00m\n\u001b[0;32m----> 2\u001b[0m pikachu \u001b[38;5;241m=\u001b[39m Pokemon(name\u001b[38;5;241m=\u001b[39m \u001b[38;5;124m'\u001b[39m\u001b[38;5;124mPikachu\u001b[39m\u001b[38;5;124m'\u001b[39m, pokemon_type\u001b[38;5;241m=\u001b[39m \u001b[38;5;124m'\u001b[39m\u001b[38;5;124mElectric\u001b[39m\u001b[38;5;124m'\u001b[39m, level\u001b[38;5;241m=\u001b[39m \u001b[38;5;241m5\u001b[39m)\n",
      "Cell \u001b[0;32mIn[31], line 3\u001b[0m, in \u001b[0;36mPokemon.__init__\u001b[0;34m(self, name, pokemon_type, level)\u001b[0m\n\u001b[1;32m      2\u001b[0m \u001b[38;5;28;01mdef\u001b[39;00m\u001b[38;5;250m \u001b[39m\u001b[38;5;21m__init__\u001b[39m(\u001b[38;5;28mself\u001b[39m,name,pokemon_type,level): \u001b[38;5;66;03m#Início\u001b[39;00m\n\u001b[0;32m----> 3\u001b[0m     \u001b[38;5;28mself\u001b[39m\u001b[38;5;241m.\u001b[39mname \u001b[38;5;241m=\u001b[39m name, \u001b[38;5;28mself\u001b[39m\u001b[38;5;241m.\u001b[39mpokemon_type \u001b[38;5;241m=\u001b[39m pokemon_type, \u001b[38;5;28mself\u001b[39m\u001b[38;5;241m.\u001b[39mlevel\u001b[38;5;241m=\u001b[39mlevel\n",
      "\u001b[0;31mTypeError\u001b[0m: cannot unpack non-iterable int object"
     ]
    }
   ],
   "source": [
    "#Creando uma instância da classe Pokemon\n",
    "pikachu = Pokemon(name= 'Pikachu', pokemon_type= 'Electric', level= 5)"
   ]
  },
  {
   "cell_type": "code",
   "execution_count": 35,
   "id": "8bfb2528",
   "metadata": {},
   "outputs": [
    {
     "ename": "NameError",
     "evalue": "name 'pikachu' is not defined",
     "output_type": "error",
     "traceback": [
      "\u001b[0;31m---------------------------------------------------------------------------\u001b[0m",
      "\u001b[0;31mNameError\u001b[0m                                 Traceback (most recent call last)",
      "Cell \u001b[0;32mIn[35], line 2\u001b[0m\n\u001b[1;32m      1\u001b[0m \u001b[38;5;66;03m#Acessando os atributos do objeto pikachu\u001b[39;00m\n\u001b[0;32m----> 2\u001b[0m \u001b[38;5;28mprint\u001b[39m(\u001b[38;5;124mf\u001b[39m\u001b[38;5;124m'\u001b[39m\u001b[38;5;124mName: \u001b[39m\u001b[38;5;132;01m{\u001b[39;00mpikachu\u001b[38;5;241m.\u001b[39mname\u001b[38;5;132;01m}\u001b[39;00m\u001b[38;5;124m'\u001b[39m)\n\u001b[1;32m      3\u001b[0m \u001b[38;5;28mprint\u001b[39m(\u001b[38;5;124mf\u001b[39m\u001b[38;5;124m'\u001b[39m\u001b[38;5;124mType: \u001b[39m\u001b[38;5;132;01m{\u001b[39;00mpikachu\u001b[38;5;241m.\u001b[39mpokemon_type\u001b[38;5;132;01m}\u001b[39;00m\u001b[38;5;124m'\u001b[39m)\n\u001b[1;32m      4\u001b[0m \u001b[38;5;28mprint\u001b[39m(\u001b[38;5;124mf\u001b[39m\u001b[38;5;124m'\u001b[39m\u001b[38;5;124mLevel: \u001b[39m\u001b[38;5;132;01m{\u001b[39;00mpikachu\u001b[38;5;241m.\u001b[39mlevel\u001b[38;5;132;01m}\u001b[39;00m\u001b[38;5;124m'\u001b[39m)\n",
      "\u001b[0;31mNameError\u001b[0m: name 'pikachu' is not defined"
     ]
    }
   ],
   "source": [
    "#Acessando os atributos do objeto pikachu\n",
    "print(f'Name: {pikachu.name}')\n",
    "print(f'Type: {pikachu.pokemon_type}')\n",
    "print(f'Level: {pikachu.level}')"
   ]
  },
  {
   "cell_type": "code",
   "execution_count": 36,
   "id": "067bb3db",
   "metadata": {},
   "outputs": [
    {
     "ename": "TypeError",
     "evalue": "cannot unpack non-iterable int object",
     "output_type": "error",
     "traceback": [
      "\u001b[0;31m---------------------------------------------------------------------------\u001b[0m",
      "\u001b[0;31mTypeError\u001b[0m                                 Traceback (most recent call last)",
      "Cell \u001b[0;32mIn[36], line 1\u001b[0m\n\u001b[0;32m----> 1\u001b[0m chamander \u001b[38;5;241m=\u001b[39m Pokemon(name\u001b[38;5;241m=\u001b[39m\u001b[38;5;124m'\u001b[39m\u001b[38;5;124mCharmander\u001b[39m\u001b[38;5;124m'\u001b[39m, pokemon_type\u001b[38;5;241m=\u001b[39m\u001b[38;5;124m'\u001b[39m\u001b[38;5;124mFire\u001b[39m\u001b[38;5;124m'\u001b[39m, level\u001b[38;5;241m=\u001b[39m\u001b[38;5;241m5\u001b[39m)\n",
      "Cell \u001b[0;32mIn[31], line 3\u001b[0m, in \u001b[0;36mPokemon.__init__\u001b[0;34m(self, name, pokemon_type, level)\u001b[0m\n\u001b[1;32m      2\u001b[0m \u001b[38;5;28;01mdef\u001b[39;00m\u001b[38;5;250m \u001b[39m\u001b[38;5;21m__init__\u001b[39m(\u001b[38;5;28mself\u001b[39m,name,pokemon_type,level): \u001b[38;5;66;03m#Início\u001b[39;00m\n\u001b[0;32m----> 3\u001b[0m     \u001b[38;5;28mself\u001b[39m\u001b[38;5;241m.\u001b[39mname \u001b[38;5;241m=\u001b[39m name, \u001b[38;5;28mself\u001b[39m\u001b[38;5;241m.\u001b[39mpokemon_type \u001b[38;5;241m=\u001b[39m pokemon_type, \u001b[38;5;28mself\u001b[39m\u001b[38;5;241m.\u001b[39mlevel\u001b[38;5;241m=\u001b[39mlevel\n",
      "\u001b[0;31mTypeError\u001b[0m: cannot unpack non-iterable int object"
     ]
    }
   ],
   "source": [
    "chamander = Pokemon(name='Charmander', pokemon_type='Fire', level=5)"
   ]
  },
  {
   "cell_type": "markdown",
   "id": "a512b81c",
   "metadata": {},
   "source": [
    "#Resumo\n",
    "\n",
    "- Classe define a estrutura e o comportamento\n",
    "\n",
    "- Objetos são instâncias de classes\n",
    "\n",
    "- o método __init__ inicializa novos objetos"
   ]
  }
 ],
 "metadata": {
  "kernelspec": {
   "display_name": "base",
   "language": "python",
   "name": "python3"
  },
  "language_info": {
   "codemirror_mode": {
    "name": "ipython",
    "version": 3
   },
   "file_extension": ".py",
   "mimetype": "text/x-python",
   "name": "python",
   "nbconvert_exporter": "python",
   "pygments_lexer": "ipython3",
   "version": "3.13.5"
  }
 },
 "nbformat": 4,
 "nbformat_minor": 5
}
